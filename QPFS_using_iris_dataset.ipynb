{
  "cells": [
    {
      "cell_type": "code",
      "execution_count": null,
      "metadata": {
        "id": "qspCEDrKWlUa"
      },
      "outputs": [],
      "source": [
        "import numpy as np\n",
        "import pandas as pd\n",
        "from sklearn.datasets import load_iris\n",
        "from sklearn.model_selection import train_test_split\n",
        "from sklearn.preprocessing import StandardScaler\n",
        "from scipy.spatial.distance import cdist\n",
        "from scipy.optimize import minimize\n",
        "from sklearn.feature_selection import mutual_info_classif, RFE\n",
        "from sklearn.ensemble import RandomForestClassifier\n",
        "from sklearn.linear_model import Lasso\n",
        "import kagglehub\n"
      ]
    },
    {
      "cell_type": "code",
      "source": [],
      "metadata": {
        "id": "OnIX0DAJrwIh"
      },
      "execution_count": null,
      "outputs": []
    },
    {
      "cell_type": "code",
      "execution_count": null,
      "metadata": {
        "colab": {
          "base_uri": "https://localhost:8080/"
        },
        "collapsed": true,
        "id": "vIS_aqg4iFGK",
        "outputId": "f28f9e24-d702-4527-afb8-1ca8fb58104d"
      },
      "outputs": [
        {
          "name": "stdout",
          "output_type": "stream",
          "text": [
            "Warning: Looks like you're using an outdated `kagglehub` version (installed: 0.3.5), please consider upgrading to the latest version (0.3.6).\n",
            "Downloading from https://www.kaggle.com/api/v1/datasets/download/uciml/iris?dataset_version_number=2...\n"
          ]
        },
        {
          "name": "stderr",
          "output_type": "stream",
          "text": [
            "100%|██████████| 3.60k/3.60k [00:00<00:00, 7.02MB/s]"
          ]
        },
        {
          "name": "stdout",
          "output_type": "stream",
          "text": [
            "Extracting files...\n"
          ]
        },
        {
          "name": "stderr",
          "output_type": "stream",
          "text": [
            "\n"
          ]
        }
      ],
      "source": [
        "path = kagglehub.dataset_download(\"uciml/iris\")"
      ]
    },
    {
      "cell_type": "code",
      "execution_count": null,
      "metadata": {
        "id": "pWAhttmOhtmz",
        "collapsed": true
      },
      "outputs": [],
      "source": [
        "path = kagglehub.dataset_download(\"uciml/iris\")\n",
        "iris = load_iris()\n",
        "\n",
        "\n",
        "# Features and target\n",
        "X = iris.data  # Features\n",
        "y = iris.target  # Target\n",
        "\n",
        "# Split the data into training and test sets (70% training, 30% testing)\n",
        "X_train, X_test, y_train, y_test = train_test_split(X, y, test_size=0.3, random_state=42)\n",
        "\n",
        "# Standardize the data (scaling the features)\n",
        "scaler = StandardScaler()\n",
        "X_train = scaler.fit_transform(X_train)  # Fit on training data and transform\n",
        "X_test = scaler.transform(X_test)  # Transform test data using the same scaling\n",
        "\n"
      ]
    },
    {
      "cell_type": "code",
      "execution_count": null,
      "metadata": {
        "colab": {
          "base_uri": "https://localhost:8080/"
        },
        "id": "teFKrkq5ixzs",
        "outputId": "15a084f0-3251-4e5c-e8ef-aa8621740b63"
      },
      "outputs": [
        {
          "name": "stdout",
          "output_type": "stream",
          "text": [
            "   sepal length (cm)  sepal width (cm)  petal length (cm)  petal width (cm)  \\\n",
            "0                5.1               3.5                1.4               0.2   \n",
            "1                4.9               3.0                1.4               0.2   \n",
            "2                4.7               3.2                1.3               0.2   \n",
            "3                4.6               3.1                1.5               0.2   \n",
            "4                5.0               3.6                1.4               0.2   \n",
            "\n",
            "   target  \n",
            "0       0  \n",
            "1       0  \n",
            "2       0  \n",
            "3       0  \n",
            "4       0  \n"
          ]
        }
      ],
      "source": [
        "# Convert the Iris dataset to a pandas DataFrame\n",
        "iris_df = pd.DataFrame(iris.data, columns=iris.feature_names)\n",
        "\n",
        "# Add the target column (species) to the DataFrame\n",
        "iris_df['target'] = iris.target\n",
        "\n",
        "# Show the first few rows of the dataset\n",
        "print(iris_df.head())  # By default, it will show the first 5 rows\n"
      ]
    },
    {
      "cell_type": "markdown",
      "metadata": {
        "id": "H2wMmpM7u82T"
      },
      "source": [
        "**Finding Q**:  the matrix that represent Feature Redundency"
      ]
    },
    {
      "cell_type": "code",
      "execution_count": null,
      "metadata": {
        "colab": {
          "base_uri": "https://localhost:8080/"
        },
        "id": "nTGJx5pLi0Gb",
        "outputId": "1b41cbc0-eec1-44b8-8818-fb666a82d2bb"
      },
      "outputs": [
        {
          "name": "stdout",
          "output_type": "stream",
          "text": [
            "[[ 1.         -0.11756978  0.87175378  0.81794113]\n",
            " [-0.11756978  1.         -0.4284401  -0.36612593]\n",
            " [ 0.87175378 -0.4284401   1.          0.96286543]\n",
            " [ 0.81794113 -0.36612593  0.96286543  1.        ]]\n"
          ]
        }
      ],
      "source": [
        "# Calculate the correlation matrix (Q)\n",
        "correlation_matrix = np.corrcoef(X.T)  # Transpose to get features as rows\n",
        "print(correlation_matrix)\n"
      ]
    },
    {
      "cell_type": "markdown",
      "metadata": {
        "id": "8Zj-qCBXvIQS"
      },
      "source": [
        "**Finding F**: a vector representing features relevance"
      ]
    },
    {
      "cell_type": "code",
      "execution_count": null,
      "metadata": {
        "colab": {
          "base_uri": "https://localhost:8080/"
        },
        "id": "YUJ9-Q2YkeHO",
        "outputId": "058bfe4e-b0d8-4f4b-ccc8-c4320d305026"
      },
      "outputs": [
        {
          "name": "stdout",
          "output_type": "stream",
          "text": [
            "Relevance vector F: [0.78256123 0.42665756 0.9490347  0.95654733]\n"
          ]
        }
      ],
      "source": [
        "correlations = []\n",
        "for i in range(X.shape[1]):  # Loop through each feature\n",
        "    feature = X[:, i]  # Get the feature\n",
        "    corr = np.corrcoef(feature, y)[0, 1]  # Compute the correlation with the target (y)\n",
        "    correlations.append(np.abs(corr))  # Use absolute value of correlation for relevance\n",
        "\n",
        "F = np.array(correlations)\n",
        "print(\"Relevance vector F:\", F)"
      ]
    },
    {
      "cell_type": "markdown",
      "metadata": {
        "id": "abfb4fZWlCAc"
      },
      "source": [
        "\n",
        "# The objective function\n",
        "𝑓\n",
        "(\n",
        "𝑥\n",
        ")\n",
        "f(x) in QPFS is defined as:\n",
        "\n",
        "𝑓\n",
        "(\n",
        "𝑥\n",
        ")\n",
        "=\n",
        "𝛼\n",
        "⋅\n",
        "𝑥\n",
        "𝑇\n",
        "𝑄\n",
        "𝑥\n",
        "+\n",
        "(\n",
        "1\n",
        "−\n",
        "𝛼\n",
        ")\n",
        "⋅\n",
        "𝐹\n",
        "𝑇\n",
        "𝑥\n",
        "\n",
        "Where:\n",
        "\n",
        "𝑥\n",
        "x is the feature weight vector (we want to optimize this).\n",
        "𝑄\n",
        "Q is the correlation matrix (a redundancy measure).\n",
        "𝐹\n",
        "F is the redundancy vector (a relevance measure).\n",
        "𝛼\n",
        "α is a balance parameter between redundancy and relevance. It ranges between 0 and 1, where:\n",
        "𝛼\n",
        "=\n",
        "1\n",
        "α=1 means we care only about minimizing redundancy.\n",
        "𝛼\n",
        "=\n",
        "0\n",
        "α=0 means we care only about relevance."
      ]
    },
    {
      "cell_type": "code",
      "execution_count": null,
      "metadata": {
        "colab": {
          "base_uri": "https://localhost:8080/"
        },
        "id": "yViQiMe4khlt",
        "outputId": "ee021ff1-44dc-4703-9259-d591e39f894c"
      },
      "outputs": [
        {
          "name": "stdout",
          "output_type": "stream",
          "text": [
            "Optimized Feature Weights: [8.55459675e-17 5.91424403e-01 4.08575597e-01 3.90513613e-17]\n",
            "Selected Features (by importance): [1 2 0 3]\n"
          ]
        }
      ],
      "source": [
        "# Define the alpha parameter (balance between relevance and redundancy)\n",
        "alpha = 0.5  # You can experiment with this value\n",
        "\n",
        "# Define the objective function\n",
        "def objective(x, Q, F, alpha):\n",
        "    return 0.5 * (alpha * np.dot(x.T, np.dot(Q, x)) + (1 - alpha) * np.dot(F.T, x))\n",
        "\n",
        "# Define the constraint: sum of feature weights = 1\n",
        "def constraint(x):\n",
        "    return np.sum(x) - 1  # Sum of weights should be 1\n",
        "\n",
        "# Define the bounds: feature weights should be between 0 and 1\n",
        "bounds = [(0, 1)] * X.shape[1]\n",
        "\n",
        "# Initial guess (equal weights to start)\n",
        "x0 = np.ones(X.shape[1]) / X.shape[1]\n",
        "\n",
        "# Set up the constraints and bounds for the optimization\n",
        "constraints = [{'type': 'eq', 'fun': constraint}]\n",
        "bounds = [(0, 1)] * X.shape[1]\n",
        "\n",
        "# Solve the optimization problem using scipy's minimize function\n",
        "result = minimize(objective, x0, args=(correlation_matrix, F, alpha), constraints=constraints, bounds=bounds)\n",
        "\n",
        "# Get the optimized feature weights\n",
        "optimized_weights = result.x\n",
        "\n",
        "# Output the optimized weights\n",
        "print(\"Optimized Feature Weights:\", optimized_weights)\n",
        "\n",
        "# Select the features with the highest weights\n",
        "selected_features = np.argsort(optimized_weights)[::-1]  # Sort indices based on weights\n",
        "print(\"Selected Features (by importance):\", selected_features)"
      ]
    },
    {
      "cell_type": "code",
      "execution_count": null,
      "metadata": {
        "colab": {
          "background_save": true,
          "base_uri": "https://localhost:8080/"
        },
        "id": "9-8Q5qS2p10a",
        "outputId": "d6cac29b-7664-4e2b-ed08-e75416d54cd5"
      },
      "outputs": [
        {
          "name": "stdout",
          "output_type": "stream",
          "text": [
            "             Feature  Mutual Information  RFE Ranking  Lasso Coefficients  \\\n",
            "2  petal length (cm)            0.987414            1            0.263330   \n",
            "1   sepal width (cm)            0.274995            3           -0.000000   \n",
            "3   petal width (cm)            0.996180            1            0.427466   \n",
            "0  sepal length (cm)            0.501222            2            0.000000   \n",
            "\n",
            "   Random Forest Importance  weight using QPFS  Average Rank  \n",
            "2                  0.436130       4.085756e-01         2.125  \n",
            "1                  0.021678       5.914244e-01         2.500  \n",
            "3                  0.436065       3.905136e-17         2.625  \n",
            "0                  0.106128       8.554597e-17         2.750  \n"
          ]
        }
      ],
      "source": [
        "# Load Iris dataset\n",
        "data = load_iris()\n",
        "X, y = data.data, data.target\n",
        "feature_names = data.feature_names\n",
        "\n",
        "# Initialize a DataFrame to store results\n",
        "results_df = pd.DataFrame({\"Feature\": feature_names})\n",
        "\n",
        "# Mutual Information\n",
        "mi_scores = mutual_info_classif(X, y)\n",
        "results_df[\"Mutual Information\"] = mi_scores\n",
        "\n",
        "# Recursive Feature Elimination (RFE)\n",
        "rfe_model = RandomForestClassifier(random_state=42)\n",
        "rfe = RFE(estimator=rfe_model, n_features_to_select=2)\n",
        "rfe.fit(X, y)\n",
        "results_df[\"RFE Ranking\"] = rfe.ranking_\n",
        "\n",
        "# Lasso Regularization (L1)\n",
        "scaler = StandardScaler()\n",
        "X_scaled = scaler.fit_transform(X)\n",
        "lasso = Lasso(alpha=0.1)\n",
        "lasso.fit(X_scaled, y)\n",
        "results_df[\"Lasso Coefficients\"] = lasso.coef_\n",
        "\n",
        "# Random Forest Feature Importance\n",
        "rf_model = RandomForestClassifier(random_state=42)\n",
        "rf_model.fit(X, y)\n",
        "results_df[\"Random Forest Importance\"] = rf_model.feature_importances_\n",
        "\n",
        "results_df[\"weight using QPFS\"] = optimized_weights\n",
        "\n",
        "# Sort features by their average rank across all methods\n",
        "results_df[\"Average Rank\"] = (\n",
        "    results_df[[\"Mutual Information\", \"RFE Ranking\", \"Random Forest Importance\",\"weight using QPFS\"]]\n",
        "    .rank(ascending=False).mean(axis=1)\n",
        ")\n",
        "results_df = results_df.sort_values(by=\"Average Rank\")\n",
        "\n",
        "# Display results\n",
        "print(results_df)\n"
      ]
    },
    {
      "cell_type": "code",
      "execution_count": null,
      "metadata": {
        "id": "4r4xI03kqFHY"
      },
      "outputs": [],
      "source": []
    }
  ],
  "metadata": {
    "colab": {
      "provenance": []
    },
    "kernelspec": {
      "display_name": "Python 3",
      "name": "python3"
    },
    "language_info": {
      "name": "python"
    }
  },
  "nbformat": 4,
  "nbformat_minor": 0
}